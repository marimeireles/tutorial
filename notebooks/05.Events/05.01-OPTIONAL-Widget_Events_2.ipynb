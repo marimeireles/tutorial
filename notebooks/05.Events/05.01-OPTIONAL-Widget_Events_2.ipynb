{
 "cells": [
  {
   "cell_type": "markdown",
   "metadata": {},
   "source": [
    "<!--NAVIGATION-->\n",
    "< [Widgets Events](05.00-Widget_Events.ipynb) | [Contents](00.00-index.ipynb) | [*OPTIONAL* Password generator: `observe`](05.02-OPTIONAL-Widget_Events_2_--_bad_password_generator,_version_1.ipynb) >"
   ]
  },
  {
   "cell_type": "markdown",
   "metadata": {},
   "source": [
    "# *OPTIONAL* Three approaches to events"
   ]
  },
  {
   "cell_type": "markdown",
   "metadata": {},
   "source": [
    "The next series of notebooks presents three ways of handling widget events. In each of the notebooks we'll construct the same simple password generator.\n",
    "\n",
    "The first uses a mix of functions and global variables, an approach like that in the notebook introducing widget events.\n",
    "\n",
    "The second separates the logic of the password generation from the password generation user interface.\n",
    "\n",
    "The third takes that separation a step further by using a class for the user interface, a class for the logic, and a class to bring them together."
   ]
  },
  {
   "cell_type": "markdown",
   "metadata": {},
   "source": [
    "<!--NAVIGATION-->\n",
    "< [Widgets Events](05.00-Widget_Events.ipynb) | [Contents](00.00-index.ipynb) | [*OPTIONAL* Password generator: `observe`](05.02-OPTIONAL-Widget_Events_2_--_bad_password_generator,_version_1.ipynb) >"
   ]
  }
 ],
 "metadata": {
  "kernelspec": {
   "display_name": "widgets-tutorial",
   "language": "python",
   "name": "widgets-tutorial"
  },
  "language_info": {
   "codemirror_mode": {
    "name": "ipython",
    "version": 3
   },
   "file_extension": ".py",
   "mimetype": "text/x-python",
   "name": "python",
   "nbconvert_exporter": "python",
   "pygments_lexer": "ipython3",
   "version": "3.7.3"
  }
 },
 "nbformat": 4,
 "nbformat_minor": 4
}
