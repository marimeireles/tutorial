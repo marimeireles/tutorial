{
 "cells": [
  {
   "cell_type": "markdown",
   "id": "8d60125f",
   "metadata": {},
   "source": [
    "# ipygany: Interactive library for 3-D mesh analysis\n",
    "\n",
    "## A Jupyter - ParaView bridge\n",
    "\n",
    "## https://github.com/QuantStack/ipygany\n",
    "\n",
    "\n",
    "A widget enabling VTK loader, Structured and Unstructured grids, Animations, Point cloud visualization and a lot more for 3-D visualization\n",
    "\n",
    "- BSD-3-Clause License\n",
    "\n",
    "**Installation:**\n",
    "\n",
    "```bash\n",
    "conda install -c conda-forge ipygany\n",
    "```"
   ]
  },
  {
   "cell_type": "markdown",
   "id": "9c6b4fd4",
   "metadata": {},
   "source": [
    "### Features\n",
    "\n",
    "* Warp\n",
    "* IsoColor\n",
    "* Threshold"
   ]
  },
  {
   "cell_type": "markdown",
   "id": "f309a937",
   "metadata": {},
   "source": [
    "#### Warp"
   ]
  },
  {
   "cell_type": "code",
   "execution_count": null,
   "id": "1e12b24b",
   "metadata": {},
   "outputs": [],
   "source": [
    "# Preparing example's data\n",
    "from pyvista import examples\n",
    "import numpy as np\n",
    "\n",
    "from ipywidgets import VBox, FloatSlider\n",
    "from ipygany import PolyMesh, Scene, IsoColor, WarpByScalar\n",
    "\n",
    "# Imports geographic data of elevations around the world\n",
    "pvmesh = examples.download_topo_global()\n",
    "\n",
    "ugrid = pvmesh.cast_to_unstructured_grid()"
   ]
  },
  {
   "cell_type": "code",
   "execution_count": null,
   "id": "e78b0bbf",
   "metadata": {},
   "outputs": [],
   "source": [
    "from ipygany import PolyMesh, Scene, IsoColor, WarpByScalar"
   ]
  },
  {
   "cell_type": "code",
   "execution_count": null,
   "id": "7f5383ee",
   "metadata": {},
   "outputs": [],
   "source": [
    "# Turn the PyVista mesh into a PolyMesh\n",
    "mesh = PolyMesh.from_vtk(ugrid)"
   ]
  },
  {
   "cell_type": "code",
   "execution_count": null,
   "id": "f121f9eb",
   "metadata": {},
   "outputs": [],
   "source": [
    "# Configure color mesh\n",
    "colored_mesh = IsoColor(mesh, min=-10421.0, max=6527.0)\n",
    "warped_mesh = WarpByScalar(colored_mesh, input='altitude', factor=0.5e-5)"
   ]
  },
  {
   "cell_type": "code",
   "execution_count": null,
   "id": "6afa8cdd",
   "metadata": {},
   "outputs": [],
   "source": [
    "# Link a slider to the warp value\n",
    "warp_slider = FloatSlider(min=0., max=5., value=0.5)\n",
    "\n",
    "def on_slider_change(change):\n",
    "    warped_mesh.factor = change['new'] * 1e-5"
   ]
  },
  {
   "cell_type": "code",
   "execution_count": null,
   "id": "a01fc116",
   "metadata": {},
   "outputs": [],
   "source": [
    "warp_slider.observe(on_slider_change, 'value')\n",
    "\n",
    "VBox((warp_slider, Scene([warped_mesh])))"
   ]
  },
  {
   "cell_type": "markdown",
   "id": "d0e357d6",
   "metadata": {},
   "source": [
    "#### IsoColor"
   ]
  },
  {
   "cell_type": "code",
   "execution_count": null,
   "id": "0d700c45",
   "metadata": {},
   "outputs": [],
   "source": [
    "from ipygany import ColorBar, colormaps"
   ]
  },
  {
   "cell_type": "code",
   "execution_count": null,
   "id": "cec68c18",
   "metadata": {},
   "outputs": [],
   "source": [
    "bar = ColorBar(colored_mesh)\n",
    "bar"
   ]
  },
  {
   "cell_type": "markdown",
   "id": "b064dccd",
   "metadata": {},
   "source": [
    "* Blues\n",
    "* Cividis\n",
    "* Greys\n",
    "* CubehelixDefault\n",
    "* Inferno"
   ]
  },
  {
   "cell_type": "code",
   "execution_count": null,
   "id": "13fcc9bc",
   "metadata": {},
   "outputs": [],
   "source": [
    "colored_mesh.colormap = colormaps.Inferno"
   ]
  },
  {
   "cell_type": "markdown",
   "id": "cff57cd7",
   "metadata": {},
   "source": [
    "#### Threshold"
   ]
  },
  {
   "cell_type": "code",
   "execution_count": null,
   "id": "703e7470",
   "metadata": {},
   "outputs": [],
   "source": [
    "from ipygany import TetraMesh,Threshold"
   ]
  },
  {
   "cell_type": "code",
   "execution_count": null,
   "id": "2b9a0078",
   "metadata": {},
   "outputs": [],
   "source": [
    "mesh2 = TetraMesh.from_vtk('images/piston.vtu')\n",
    "\n",
    "iso2 = IsoColor(mesh2, input=('RESU____DEPL', 'DX'), min=-1.3931281e-06, max=1.3929895e-06)\n",
    "\n",
    "scene2 = Scene([iso2])\n",
    "scene2"
   ]
  },
  {
   "cell_type": "code",
   "execution_count": null,
   "id": "d8cdc076",
   "metadata": {},
   "outputs": [],
   "source": [
    "th = Threshold(iso2, input=('RESU____DEPL', 'DX'), min=-1.3931281e-06, max=1.0e-06)\n",
    "\n",
    "scene3 = Scene([th])\n",
    "\n",
    "scene3"
   ]
  },
  {
   "cell_type": "code",
   "execution_count": null,
   "id": "0becd331",
   "metadata": {},
   "outputs": [],
   "source": [
    "th.max = 1.0e-6"
   ]
  },
  {
   "cell_type": "markdown",
   "id": "6be7d577",
   "metadata": {},
   "source": [
    "# Exercise"
   ]
  },
  {
   "cell_type": "markdown",
   "id": "5b0913f9",
   "metadata": {},
   "source": [
    "### 1) Create a slide to control the threshold value.\n",
    "\n",
    "**Tip: slides only change values from 0 - 100. Here we need to make the value smaller to have a visual effect on the image. Try multiplying the slider value for 1/10!**"
   ]
  },
  {
   "cell_type": "code",
   "execution_count": null,
   "id": "43a0d138",
   "metadata": {},
   "outputs": [],
   "source": []
  }
 ],
 "metadata": {
  "kernelspec": {
   "display_name": "widgets-tutorial",
   "language": "python",
   "name": "widgets-tutorial"
  },
  "language_info": {
   "codemirror_mode": {
    "name": "ipython",
    "version": 3
   },
   "file_extension": ".py",
   "mimetype": "text/x-python",
   "name": "python",
   "nbconvert_exporter": "python",
   "pygments_lexer": "ipython3",
   "version": "3.8.0"
  },
  "toc-autonumbering": false
 },
 "nbformat": 4,
 "nbformat_minor": 5
}
